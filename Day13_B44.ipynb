{
 "cells": [
  {
   "cell_type": "code",
   "execution_count": null,
   "metadata": {},
   "outputs": [],
   "source": [
    "Introduction to Python classes: "
   ]
  },
  {
   "cell_type": "code",
   "execution_count": null,
   "metadata": {},
   "outputs": [],
   "source": []
  },
  {
   "cell_type": "code",
   "execution_count": null,
   "metadata": {},
   "outputs": [],
   "source": [
    "class ====> it is a high level blueprint of the program. class is the keyword used to define it. \n",
    "we have to use title case for defining the classes.\n",
    "\n",
    "\n",
    "methods : A function written inside the class is called as a method.\n",
    "    \n",
    "attributes : A variable written inside a class i called as an attribute. \n",
    "    \n",
    "self : A self is a temp placeholder for an object.\n",
    "\n",
    "object/instance : An object/instance is an entry point to acces the class methods."
   ]
  },
  {
   "cell_type": "code",
   "execution_count": null,
   "metadata": {},
   "outputs": [],
   "source": []
  },
  {
   "cell_type": "code",
   "execution_count": null,
   "metadata": {},
   "outputs": [],
   "source": [
    "# Req: Create a greeting class and have the below methods inside it. \n",
    "\n",
    "# 1. create user ===> it needs to accept the input from the user. \n",
    "\n",
    "# 2. display_user ===> it needs to display the username.\n",
    "\n",
    "# 3. greet_user ===> it needs to greet the user. "
   ]
  },
  {
   "cell_type": "code",
   "execution_count": null,
   "metadata": {},
   "outputs": [],
   "source": []
  },
  {
   "cell_type": "code",
   "execution_count": 12,
   "metadata": {},
   "outputs": [],
   "source": [
    "class Greet:\n",
    "    \"\"\"Creating a greeting class\"\"\"    # doc string\n",
    "    \n",
    "    def create_user(self,username):  # Method name \n",
    "        self.username = username   # Attribute \n",
    "        self.age = age # this is the format you have to remember. test.username = 'Aftab'\n",
    "        \n",
    "    def display_user(self):    # Method\n",
    "        print(self.username)\n",
    "        \n",
    "    def greet_user(self):       # Method\n",
    "        print(f\"Hello, {self.username}\")"
   ]
  },
  {
   "cell_type": "code",
   "execution_count": 13,
   "metadata": {},
   "outputs": [],
   "source": [
    "test = Greet()      # Object assignment to the class....! "
   ]
  },
  {
   "cell_type": "code",
   "execution_count": 17,
   "metadata": {},
   "outputs": [],
   "source": [
    "test.create_user('Aftab')\n"
   ]
  },
  {
   "cell_type": "code",
   "execution_count": 18,
   "metadata": {},
   "outputs": [
    {
     "name": "stdout",
     "output_type": "stream",
     "text": [
      "Aftab\n"
     ]
    }
   ],
   "source": [
    "test.display_user()"
   ]
  },
  {
   "cell_type": "code",
   "execution_count": 16,
   "metadata": {},
   "outputs": [
    {
     "name": "stdout",
     "output_type": "stream",
     "text": [
      "Hello, Aftab\n"
     ]
    }
   ],
   "source": [
    "test.greet_user()"
   ]
  },
  {
   "cell_type": "code",
   "execution_count": null,
   "metadata": {},
   "outputs": [],
   "source": []
  }
 ],
 "metadata": {
  "kernelspec": {
   "display_name": "Python 3",
   "language": "python",
   "name": "python3"
  },
  "language_info": {
   "codemirror_mode": {
    "name": "ipython",
    "version": 3
   },
   "file_extension": ".py",
   "mimetype": "text/x-python",
   "name": "python",
   "nbconvert_exporter": "python",
   "pygments_lexer": "ipython3",
   "version": "3.8.5"
  }
 },
 "nbformat": 4,
 "nbformat_minor": 4
}
